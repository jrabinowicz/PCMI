{
 "cells": [
  {
   "cell_type": "code",
   "execution_count": 1,
   "metadata": {},
   "outputs": [],
   "source": [
    "import random, math\n",
    "import pandas as pd\n",
    "import random\n",
    "\n",
    "impacto = [1, 6, 3, 16, 12, 20, 27, 25, 26, 33, 38, 48, 47]"
   ]
  },
  {
   "cell_type": "markdown",
   "metadata": {},
   "source": [
    "# Heuristicas"
   ]
  },
  {
   "cell_type": "code",
   "execution_count": 8,
   "metadata": {},
   "outputs": [],
   "source": [
    "#Heurística 1\n",
    "\n",
    "filas_indice = []\n",
    "n = 6\n",
    "for imp in impacto:\n",
    "    filas_indice.append([\"H1\", n, imp, F\"instancias/CMI_n{n}.in\"])\n",
    "    n+=2\n",
    "pd.DataFrame(filas_indice, columns=[\"dataset\", \"n\", \"Impacto\", \"archivo\"]).to_csv(\"instancias/indice-h1.csv\", index=False, header=True)\n",
    "\n",
    "#Heurística 2\n",
    "\n",
    "filas_indice = []\n",
    "n = 6\n",
    "for imp in impacto:\n",
    "    filas_indice.append([\"H2\", n, imp, F\"instancias/CMI_n{n}.in\"])\n",
    "    n+=2\n",
    "pd.DataFrame(filas_indice, columns=[\"dataset\", \"n\", \"Impacto\", \"archivo\"]).to_csv(\"instancias/indice-h2.csv\", index=False, header=True)"
   ]
  },
  {
   "source": [
    "# MBI (Muy Bajas Iteraciones)"
   ],
   "cell_type": "markdown",
   "metadata": {}
  },
  {
   "cell_type": "code",
   "execution_count": 10,
   "metadata": {},
   "outputs": [],
   "source": [
    "#TB-H1-MSE-MBI\n",
    "\n",
    "filas_indice = []\n",
    "n = 6\n",
    "for imp in impacto:\n",
    "    filas_indice.append([\"TB-H1-MSE-MBI\", n, imp, F\"instancias/CMI_n{n}.in\"])\n",
    "    n+=2\n",
    "pd.DataFrame(filas_indice, columns=[\"dataset\", \"n\", \"Impacto\", \"archivo\"]).to_csv(\"instancias/indice-TB-H1-MSE-MBI.csv\", index=False, header=True)\n",
    "\n",
    "#TB-H1-ME-MBI\n",
    "\n",
    "filas_indice = []\n",
    "n = 6\n",
    "for imp in impacto:\n",
    "    filas_indice.append([\"TB-H1-ME-MBI\", n, imp, F\"instancias/CMI_n{n}.in\"])\n",
    "    n+=2\n",
    "pd.DataFrame(filas_indice, columns=[\"dataset\", \"n\", \"Impacto\", \"archivo\"]).to_csv(\"instancias/indice-TB-H1-ME-MBI.csv\", index=False, header=True)\n",
    "\n",
    "#TB-H2-MSE-MBI\n",
    "\n",
    "filas_indice = []\n",
    "n = 6\n",
    "for imp in impacto:\n",
    "    filas_indice.append([\"TB-H2-MSE-MBI\", n, imp, F\"instancias/CMI_n{n}.in\"])\n",
    "    n+=2\n",
    "pd.DataFrame(filas_indice, columns=[\"dataset\", \"n\", \"Impacto\", \"archivo\"]).to_csv(\"instancias/indice-TB-H2-MSE-MBI.csv\", index=False, header=True)\n",
    "\n",
    "#TB-H2-ME-MBI\n",
    "\n",
    "filas_indice = []\n",
    "n = 6\n",
    "for imp in impacto:\n",
    "    filas_indice.append([\"TB-H2-ME-MBI\", n, imp, F\"instancias/CMI_n{n}.in\"])\n",
    "    n+=2\n",
    "pd.DataFrame(filas_indice, columns=[\"dataset\", \"n\", \"Impacto\", \"archivo\"]).to_csv(\"instancias/indice-TB-H2-ME-MBI.csv\", index=False, header=True)"
   ]
  },
  {
   "source": [
    "# BI (Bajas Iteraciones)"
   ],
   "cell_type": "markdown",
   "metadata": {}
  },
  {
   "cell_type": "code",
   "execution_count": 14,
   "metadata": {},
   "outputs": [],
   "source": [
    "#TB-H1-MSE-BI\n",
    "\n",
    "filas_indice = []\n",
    "n = 6\n",
    "for imp in impacto:\n",
    "    filas_indice.append([\"TB-H1-MSE-BI\", n, imp, F\"instancias/CMI_n{n}.in\"])\n",
    "    n+=2\n",
    "pd.DataFrame(filas_indice, columns=[\"dataset\", \"n\", \"Impacto\", \"archivo\"]).to_csv(\"instancias/indice-TB-H1-MSE-BI.csv\", index=False, header=True)\n",
    "\n",
    "#TB-H1-ME-BI\n",
    "\n",
    "filas_indice = []\n",
    "n = 6\n",
    "for imp in impacto:\n",
    "    filas_indice.append([\"TB-H1-ME-BI\", n, imp, F\"instancias/CMI_n{n}.in\"])\n",
    "    n+=2\n",
    "pd.DataFrame(filas_indice, columns=[\"dataset\", \"n\", \"Impacto\", \"archivo\"]).to_csv(\"instancias/indice-TB-H1-ME-BI.csv\", index=False, header=True)\n",
    "\n",
    "#TB-H2-MSE-BI\n",
    "\n",
    "filas_indice = []\n",
    "n = 6\n",
    "for imp in impacto:\n",
    "    filas_indice.append([\"TB-H2-MSE-BI\", n, imp, F\"instancias/CMI_n{n}.in\"])\n",
    "    n+=2\n",
    "pd.DataFrame(filas_indice, columns=[\"dataset\", \"n\", \"Impacto\", \"archivo\"]).to_csv(\"instancias/indice-TB-H2-MSE-BI.csv\", index=False, header=True)\n",
    "\n",
    "#TB-H2-ME-BI\n",
    "\n",
    "filas_indice = []\n",
    "n = 6\n",
    "for imp in impacto:\n",
    "    filas_indice.append([\"TB-H2-ME-BI\", n, imp, F\"instancias/CMI_n{n}.in\"])\n",
    "    n+=2\n",
    "pd.DataFrame(filas_indice, columns=[\"dataset\", \"n\", \"Impacto\", \"archivo\"]).to_csv(\"instancias/indice-TB-H2-ME-BI.csv\", index=False, header=True)"
   ]
  },
  {
   "source": [
    "# MI (Medias Iteraciones)"
   ],
   "cell_type": "markdown",
   "metadata": {}
  },
  {
   "cell_type": "code",
   "execution_count": 18,
   "metadata": {},
   "outputs": [],
   "source": [
    "#TB-H1-MSE-MI\n",
    "\n",
    "filas_indice = []\n",
    "n = 6\n",
    "for imp in impacto:\n",
    "    filas_indice.append([\"TB-H1-MSE-MI\", n, imp, F\"instancias/CMI_n{n}.in\"])\n",
    "    n+=2\n",
    "pd.DataFrame(filas_indice, columns=[\"dataset\", \"n\", \"Impacto\", \"archivo\"]).to_csv(\"instancias/indice-TB-H1-MSE-MI.csv\", index=False, header=True)\n",
    "\n",
    "#TB-H1-ME-MI\n",
    "\n",
    "filas_indice = []\n",
    "n = 6\n",
    "for imp in impacto:\n",
    "    filas_indice.append([\"TB-H1-ME-MI\", n, imp, F\"instancias/CMI_n{n}.in\"])\n",
    "    n+=2\n",
    "pd.DataFrame(filas_indice, columns=[\"dataset\", \"n\", \"Impacto\", \"archivo\"]).to_csv(\"instancias/indice-TB-H1-ME-MI.csv\", index=False, header=True)\n",
    "\n",
    "#TB-H2-MSE-MI\n",
    "\n",
    "filas_indice = []\n",
    "n = 6\n",
    "for imp in impacto:\n",
    "    filas_indice.append([\"TB-H2-MSE-MI\", n, imp, F\"instancias/CMI_n{n}.in\"])\n",
    "    n+=2\n",
    "pd.DataFrame(filas_indice, columns=[\"dataset\", \"n\", \"Impacto\", \"archivo\"]).to_csv(\"instancias/indice-TB-H2-MSE-MI.csv\", index=False, header=True)\n",
    "\n",
    "#TB-H2-ME-MI\n",
    "\n",
    "filas_indice = []\n",
    "n = 6\n",
    "for imp in impacto:\n",
    "    filas_indice.append([\"TB-H2-ME-MI\", n, imp, F\"instancias/CMI_n{n}.in\"])\n",
    "    n+=2\n",
    "pd.DataFrame(filas_indice, columns=[\"dataset\", \"n\", \"Impacto\", \"archivo\"]).to_csv(\"instancias/indice-TB-H2-ME-MI.csv\", index=False, header=True)"
   ]
  },
  {
   "source": [
    "# AI (Altas Iteraciones)"
   ],
   "cell_type": "markdown",
   "metadata": {}
  },
  {
   "cell_type": "markdown",
   "metadata": {},
   "source": [
    "# TB-H1-MSE-AI"
   ]
  },
  {
   "cell_type": "code",
   "execution_count": 22,
   "metadata": {},
   "outputs": [],
   "source": [
    "#TB-H1-MSE-AI\n",
    "\n",
    "filas_indice = []\n",
    "n = 6\n",
    "for imp in impacto:\n",
    "    filas_indice.append([\"TB-H1-MSE-AI\", n, imp, F\"instancias/CMI_n{n}.in\"])\n",
    "    n+=2\n",
    "pd.DataFrame(filas_indice, columns=[\"dataset\", \"n\", \"Impacto\", \"archivo\"]).to_csv(\"instancias/indice-TB-H1-MSE-AI.csv\", index=False, header=True)\n",
    "\n",
    "#TB-H1-ME-AI\n",
    "\n",
    "filas_indice = []\n",
    "n = 6\n",
    "for imp in impacto:\n",
    "    filas_indice.append([\"TB-H1-ME-AI\", n, imp, F\"instancias/CMI_n{n}.in\"])\n",
    "    n+=2\n",
    "pd.DataFrame(filas_indice, columns=[\"dataset\", \"n\", \"Impacto\", \"archivo\"]).to_csv(\"instancias/indice-TB-H1-ME-AI.csv\", index=False, header=True)\n",
    "\n",
    "#TB-H2-MSE-AI\n",
    "\n",
    "filas_indice = []\n",
    "n = 6\n",
    "for imp in impacto:\n",
    "    filas_indice.append([\"TB-H2-MSE-AI\", n, imp, F\"instancias/CMI_n{n}.in\"])\n",
    "    n+=2\n",
    "pd.DataFrame(filas_indice, columns=[\"dataset\", \"n\", \"Impacto\", \"archivo\"]).to_csv(\"instancias/indice-TB-H2-MSE-AI.csv\", index=False, header=True)\n",
    "\n",
    "#TB-H2-ME-AI\n",
    "\n",
    "filas_indice = []\n",
    "n = 6\n",
    "for imp in impacto:\n",
    "    filas_indice.append([\"TB-H2-ME-AI\", n, imp, F\"instancias/CMI_n{n}.in\"])\n",
    "    n+=2\n",
    "pd.DataFrame(filas_indice, columns=[\"dataset\", \"n\", \"Impacto\", \"archivo\"]).to_csv(\"instancias/indice-TB-H2-ME-AI.csv\", index=False, header=True)"
   ]
  },
  {
   "cell_type": "markdown",
   "metadata": {},
   "source": [
    "# INSTANCIAS NUEVAS de Test"
   ]
  },
  {
   "cell_type": "code",
   "execution_count": 14,
   "metadata": {},
   "outputs": [],
   "source": [
    "filas_indice = []\n",
    "filas_indice.append([\"TB-H1-MSE-MI\", 5, 2, F\"instanciasTest/CMIN_n5.in\"])\n",
    "filas_indice.append([\"TB-H1-MSE-MI\", 6, 4, F\"instanciasTest/CMIN_n6.in\"])\n",
    "filas_indice.append([\"TB-H1-MSE-MI\", 6, 3, F\"instanciasTest/CMIN_n6_2.in\"])\n",
    "filas_indice.append([\"TB-H1-MSE-MI\", 7, 4, F\"instanciasTest/CMIN_n7.in\"])\n",
    "filas_indice.append([\"TB-H1-MSE-MI\", 8, 4, F\"instanciasTest/CMIN_n8.in\"])\n",
    "filas_indice.append([\"TB-H1-MSE-MI\", 9, 5, F\"instanciasTest/CMIN_n9.in\"])\n",
    "filas_indice.append([\"TB-H1-MSE-MI\", 9, 5, F\"instanciasTest/CMIN_n9_2.in\"])\n",
    "filas_indice.append([\"TB-H1-MSE-MI\", 10, 6, F\"instanciasTest/CMIN_n10.in\"])\n",
    "filas_indice.append([\"TB-H1-MSE-MI\", 11, 6, F\"instanciasTest/CMIN_n11.in\"])\n",
    "filas_indice.append([\"TB-H1-MSE-MI\", 12, 7, F\"instanciasTest/CMIN_n12.in\"])\n",
    "filas_indice.append([\"TB-H1-MSE-MI\", 13, 8, F\"instanciasTest/CMIN_n13.in\"])\n",
    "filas_indice.append([\"TB-H1-MSE-MI\", 14, 9, F\"instanciasTest/CMIN_n14.in\"])\n",
    "pd.DataFrame(filas_indice, columns=[\"dataset\", \"n\", \"Impacto\", \"archivo\"]).to_csv(\"instanciasTest/indice-TB-H1-MSE-MIN.csv\", index=False, header=True)"
   ]
  },
  {
   "cell_type": "code",
   "execution_count": 15,
   "metadata": {},
   "outputs": [],
   "source": [
    "filas_indice = []\n",
    "filas_indice.append([\"TB-H1-ME-MI\", 5, 2, F\"instanciasTest/CMIN_n5.in\"])\n",
    "filas_indice.append([\"TB-H1-ME-MI\", 6, 4, F\"instanciasTest/CMIN_n6.in\"])\n",
    "filas_indice.append([\"TB-H1-ME-MI\", 6, 3, F\"instanciasTest/CMIN_n6_2.in\"])\n",
    "filas_indice.append([\"TB-H1-ME-MI\", 7, 4, F\"instanciasTest/CMIN_n7.in\"])\n",
    "filas_indice.append([\"TB-H1-ME-MI\", 8, 4, F\"instanciasTest/CMIN_n8.in\"])\n",
    "filas_indice.append([\"TB-H1-ME-MI\", 9, 5, F\"instanciasTest/CMIN_n9.in\"])\n",
    "filas_indice.append([\"TB-H1-ME-MI\", 9, 5, F\"instanciasTest/CMIN_n9_2.in\"])\n",
    "filas_indice.append([\"TB-H1-ME-MI\", 10, 6, F\"instanciasTest/CMIN_n10.in\"])\n",
    "filas_indice.append([\"TB-H1-ME-MI\", 11, 6, F\"instanciasTest/CMIN_n11.in\"])\n",
    "filas_indice.append([\"TB-H1-ME-MI\", 12, 7, F\"instanciasTest/CMIN_n12.in\"])\n",
    "filas_indice.append([\"TB-H1-ME-MI\", 13, 8, F\"instanciasTest/CMIN_n13.in\"])\n",
    "filas_indice.append([\"TB-H1-ME-MI\", 14, 9, F\"instanciasTest/CMIN_n14.in\"])\n",
    "pd.DataFrame(filas_indice, columns=[\"dataset\", \"n\", \"Impacto\", \"archivo\"]).to_csv(\"instanciasTest/indice-TB-H1-ME-MIN.csv\", index=False, header=True)"
   ]
  },
  {
   "cell_type": "code",
   "execution_count": 16,
   "metadata": {},
   "outputs": [],
   "source": [
    "filas_indice = []\n",
    "filas_indice.append([\"TB-H2-MSE-MI\", 5, 2, F\"instanciasTest/CMIN_n5.in\"])\n",
    "filas_indice.append([\"TB-H2-MSE-MI\", 6, 4, F\"instanciasTest/CMIN_n6.in\"])\n",
    "filas_indice.append([\"TB-H2-MSE-MI\", 6, 3, F\"instanciasTest/CMIN_n6_2.in\"])\n",
    "filas_indice.append([\"TB-H2-MSE-MI\", 7, 4, F\"instanciasTest/CMIN_n7.in\"])\n",
    "filas_indice.append([\"TB-H2-MSE-MI\", 8, 4, F\"instanciasTest/CMIN_n8.in\"])\n",
    "filas_indice.append([\"TB-H2-MSE-MI\", 9, 5, F\"instanciasTest/CMIN_n9.in\"])\n",
    "filas_indice.append([\"TB-H2-MSE-MI\", 9, 5, F\"instanciasTest/CMIN_n9_2.in\"])\n",
    "filas_indice.append([\"TB-H2-MSE-MI\", 10, 6, F\"instanciasTest/CMIN_n10.in\"])\n",
    "filas_indice.append([\"TB-H2-MSE-MI\", 11, 6, F\"instanciasTest/CMIN_n11.in\"])\n",
    "filas_indice.append([\"TB-H2-MSE-MI\", 12, 7, F\"instanciasTest/CMIN_n12.in\"])\n",
    "filas_indice.append([\"TB-H2-MSE-MI\", 13, 8, F\"instanciasTest/CMIN_n13.in\"])\n",
    "filas_indice.append([\"TB-H2-MSE-MI\", 14, 9, F\"instanciasTest/CMIN_n14.in\"])\n",
    "pd.DataFrame(filas_indice, columns=[\"dataset\", \"n\", \"Impacto\", \"archivo\"]).to_csv(\"instanciasTest/indice-TB-H2-MSE-MIN.csv\", index=False, header=True)"
   ]
  },
  {
   "cell_type": "code",
   "execution_count": 17,
   "metadata": {},
   "outputs": [],
   "source": [
    "filas_indice = []\n",
    "filas_indice.append([\"TB-H2-ME-MI\", 5, 2, F\"instanciasTest/CMIN_n5.in\"])\n",
    "filas_indice.append([\"TB-H2-ME-MI\", 6, 4, F\"instanciasTest/CMIN_n6.in\"])\n",
    "filas_indice.append([\"TB-H2-ME-MI\", 6, 3, F\"instanciasTest/CMIN_n6_2.in\"])\n",
    "filas_indice.append([\"TB-H2-ME-MI\", 7, 4, F\"instanciasTest/CMIN_n7.in\"])\n",
    "filas_indice.append([\"TB-H2-ME-MI\", 8, 4, F\"instanciasTest/CMIN_n8.in\"])\n",
    "filas_indice.append([\"TB-H2-ME-MI\", 9, 5, F\"instanciasTest/CMIN_n9.in\"])\n",
    "filas_indice.append([\"TB-H2-ME-MI\", 9, 5, F\"instanciasTest/CMIN_n9_2.in\"])\n",
    "filas_indice.append([\"TB-H2-ME-MI\", 10, 6, F\"instanciasTest/CMIN_n10.in\"])\n",
    "filas_indice.append([\"TB-H2-ME-MI\", 11, 6, F\"instanciasTest/CMIN_n11.in\"])\n",
    "filas_indice.append([\"TB-H2-ME-MI\", 12, 7, F\"instanciasTest/CMIN_n12.in\"])\n",
    "filas_indice.append([\"TB-H2-ME-MI\", 13, 8, F\"instanciasTest/CMIN_n13.in\"])\n",
    "filas_indice.append([\"TB-H2-ME-MI\", 14, 9, F\"instanciasTest/CMIN_n14.in\"])\n",
    "pd.DataFrame(filas_indice, columns=[\"dataset\", \"n\", \"Impacto\", \"archivo\"]).to_csv(\"instanciasTest/indice-TB-H2-ME-MIN.csv\", index=False, header=True)"
   ]
  },
  {
   "cell_type": "code",
   "execution_count": 18,
   "metadata": {},
   "outputs": [],
   "source": [
    "filas_indice = []\n",
    "filas_indice.append([\"TB-H1-MSE-MBI\", 5, 2, F\"instanciasTest/CMIN_n5.in\"])\n",
    "filas_indice.append([\"TB-H1-MSE-MBI\", 6, 4, F\"instanciasTest/CMIN_n6.in\"])\n",
    "filas_indice.append([\"TB-H1-MSE-MBI\", 6, 3, F\"instanciasTest/CMIN_n6_2.in\"])\n",
    "filas_indice.append([\"TB-H1-MSE-MBI\", 7, 4, F\"instanciasTest/CMIN_n7.in\"])\n",
    "filas_indice.append([\"TB-H1-MSE-MBI\", 8, 4, F\"instanciasTest/CMIN_n8.in\"])\n",
    "filas_indice.append([\"TB-H1-MSE-MBI\", 9, 5, F\"instanciasTest/CMIN_n9.in\"])\n",
    "filas_indice.append([\"TB-H1-MSE-MBI\", 9, 5, F\"instanciasTest/CMIN_n9_2.in\"])\n",
    "filas_indice.append([\"TB-H1-MSE-MBI\", 10, 6, F\"instanciasTest/CMIN_n10.in\"])\n",
    "filas_indice.append([\"TB-H1-MSE-MBI\", 11, 6, F\"instanciasTest/CMIN_n11.in\"])\n",
    "filas_indice.append([\"TB-H1-MSE-MBI\", 12, 7, F\"instanciasTest/CMIN_n12.in\"])\n",
    "filas_indice.append([\"TB-H1-MSE-MBI\", 13, 8, F\"instanciasTest/CMIN_n13.in\"])\n",
    "filas_indice.append([\"TB-H1-MSE-MBI\", 14, 9, F\"instanciasTest/CMIN_n14.in\"])\n",
    "pd.DataFrame(filas_indice, columns=[\"dataset\", \"n\", \"Impacto\", \"archivo\"]).to_csv(\"instanciasTest/indice-TB-H1-MSE-MBIN.csv\", index=False, header=True)"
   ]
  },
  {
   "cell_type": "code",
   "execution_count": 19,
   "metadata": {},
   "outputs": [],
   "source": [
    "filas_indice = []\n",
    "filas_indice.append([\"TB-H1-ME-MBI\", 5, 2, F\"instanciasTest/CMIN_n5.in\"])\n",
    "filas_indice.append([\"TB-H1-ME-MBI\", 6, 4, F\"instanciasTest/CMIN_n6.in\"])\n",
    "filas_indice.append([\"TB-H1-ME-MBI\", 6, 3, F\"instanciasTest/CMIN_n6_2.in\"])\n",
    "filas_indice.append([\"TB-H1-ME-MBI\", 7, 4, F\"instanciasTest/CMIN_n7.in\"])\n",
    "filas_indice.append([\"TB-H1-ME-MBI\", 8, 4, F\"instanciasTest/CMIN_n8.in\"])\n",
    "filas_indice.append([\"TB-H1-ME-MBI\", 9, 5, F\"instanciasTest/CMIN_n9.in\"])\n",
    "filas_indice.append([\"TB-H1-ME-MBI\", 9, 5, F\"instanciasTest/CMIN_n9_2.in\"])\n",
    "filas_indice.append([\"TB-H1-ME-MBI\", 10, 6, F\"instanciasTest/CMIN_n10.in\"])\n",
    "filas_indice.append([\"TB-H1-ME-MBI\", 11, 6, F\"instanciasTest/CMIN_n11.in\"])\n",
    "filas_indice.append([\"TB-H1-ME-MBI\", 12, 7, F\"instanciasTest/CMIN_n12.in\"])\n",
    "filas_indice.append([\"TB-H1-ME-MBI\", 13, 8, F\"instanciasTest/CMIN_n13.in\"])\n",
    "filas_indice.append([\"TB-H1-ME-MBI\", 14, 9, F\"instanciasTest/CMIN_n14.in\"])\n",
    "pd.DataFrame(filas_indice, columns=[\"dataset\", \"n\", \"Impacto\", \"archivo\"]).to_csv(\"instanciasTest/indice-TB-H1-ME-MBIN.csv\", index=False, header=True)"
   ]
  },
  {
   "cell_type": "code",
   "execution_count": 20,
   "metadata": {},
   "outputs": [],
   "source": [
    "filas_indice = []\n",
    "filas_indice.append([\"TB-H2-MSE-MBI\", 5, 2, F\"instanciasTest/CMIN_n5.in\"])\n",
    "filas_indice.append([\"TB-H2-MSE-MBI  \", 6, 4, F\"instanciasTest/CMIN_n6.in\"])\n",
    "filas_indice.append([\"TB-H2-MSE-MBI\", 6, 3, F\"instanciasTest/CMIN_n6_2.in\"])\n",
    "filas_indice.append([\"TB-H2-MSE-MBI\", 7, 4, F\"instanciasTest/CMIN_n7.in\"])\n",
    "filas_indice.append([\"TB-H2-MSE-MBI\", 8, 4, F\"instanciasTest/CMIN_n8.in\"])\n",
    "filas_indice.append([\"TB-H2-MSE-MBI\", 9, 5, F\"instanciasTest/CMIN_n9.in\"])\n",
    "filas_indice.append([\"TB-H2-MSE-MBI\", 9, 5, F\"instanciasTest/CMIN_n9_2.in\"])\n",
    "filas_indice.append([\"TB-H2-MSE-MBI\", 10, 6, F\"instanciasTest/CMIN_n10.in\"])\n",
    "filas_indice.append([\"TB-H2-MSE-MBI\", 11, 6, F\"instanciasTest/CMIN_n11.in\"])\n",
    "filas_indice.append([\"TB-H2-MSE-MBI\", 12, 7, F\"instanciasTest/CMIN_n12.in\"])\n",
    "filas_indice.append([\"TB-H2-MSE-MBI\", 13, 8, F\"instanciasTest/CMIN_n13.in\"])\n",
    "filas_indice.append([\"TB-H2-MSE-MBI\", 14, 9, F\"instanciasTest/CMIN_n14.in\"])\n",
    "pd.DataFrame(filas_indice, columns=[\"dataset\", \"n\", \"Impacto\", \"archivo\"]).to_csv(\"instanciasTest/indice-TB-H2-MSE-MBIN.csv\", index=False, header=True)"
   ]
  },
  {
   "cell_type": "code",
   "execution_count": 21,
   "metadata": {},
   "outputs": [],
   "source": [
    "filas_indice = []\n",
    "filas_indice.append([\"TB-H2-ME-MBI\", 5, 2, F\"instanciasTest/CMIN_n5.in\"])\n",
    "filas_indice.append([\"TB-H2-ME-MBI\", 6, 4, F\"instanciasTest/CMIN_n6.in\"])\n",
    "filas_indice.append([\"TB-H2-ME-MBI\", 6, 3, F\"instanciasTest/CMIN_n6_2.in\"])\n",
    "filas_indice.append([\"TB-H2-ME-MBI\", 7, 4, F\"instanciasTest/CMIN_n7.in\"])\n",
    "filas_indice.append([\"TB-H2-ME-MBI\", 8, 4, F\"instanciasTest/CMIN_n8.in\"])\n",
    "filas_indice.append([\"TB-H2-ME-MBI\", 9, 5, F\"instanciasTest/CMIN_n9.in\"])\n",
    "filas_indice.append([\"TB-H2-ME-MBI\", 9, 5, F\"instanciasTest/CMIN_n9_2.in\"])\n",
    "filas_indice.append([\"TB-H2-ME-MBI\", 10, 6, F\"instanciasTest/CMIN_n10.in\"])\n",
    "filas_indice.append([\"TB-H2-ME-MBI\", 11, 6, F\"instanciasTest/CMIN_n11.in\"])\n",
    "filas_indice.append([\"TB-H2-ME-MBI\", 12, 7, F\"instanciasTest/CMIN_n12.in\"])\n",
    "filas_indice.append([\"TB-H2-ME-MBI\", 13, 8, F\"instanciasTest/CMIN_n13.in\"])\n",
    "filas_indice.append([\"TB-H2-ME-MBI\", 14, 9, F\"instanciasTest/CMIN_n14.in\"])\n",
    "pd.DataFrame(filas_indice, columns=[\"dataset\", \"n\", \"Impacto\", \"archivo\"]).to_csv(\"instanciasTest/indice-TB-H2-ME-MBIN.csv\", index=False, header=True)"
   ]
  },
  {
   "cell_type": "code",
   "execution_count": null,
   "metadata": {},
   "outputs": [],
   "source": []
  }
 ],
 "metadata": {
  "kernelspec": {
   "display_name": "Python 3",
   "language": "python",
   "name": "python3"
  },
  "language_info": {
   "codemirror_mode": {
    "name": "ipython",
    "version": 3
   },
   "file_extension": ".py",
   "mimetype": "text/x-python",
   "name": "python",
   "nbconvert_exporter": "python",
   "pygments_lexer": "ipython3",
   "version": "3.7.4-final"
  }
 },
 "nbformat": 4,
 "nbformat_minor": 4
}